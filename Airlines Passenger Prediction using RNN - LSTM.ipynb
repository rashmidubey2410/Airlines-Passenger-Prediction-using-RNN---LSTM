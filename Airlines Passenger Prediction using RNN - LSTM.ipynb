{
 "cells": [
  {
   "cell_type": "markdown",
   "metadata": {},
   "source": [
    "# Airlines Passenger Prediction using RNN - LSTM\n",
    "\n",
    "### LSTM for international airline passengers problem with time step regression framing\n"
   ]
  },
  {
   "cell_type": "code",
   "execution_count": 1,
   "metadata": {},
   "outputs": [],
   "source": [
    "import numpy as np\n",
    "import pandas as pd\n",
    "import matplotlib.pyplot as plt\n",
    "import math\n",
    "\n",
    "from tensorflow.keras.models import Sequential\n",
    "from tensorflow.keras.layers import Dense\n",
    "from tensorflow.keras.layers import LSTM\n",
    "\n",
    "from sklearn.preprocessing import MinMaxScaler\n",
    "from sklearn.metrics import mean_squared_error\n"
   ]
  },
  {
   "cell_type": "code",
   "execution_count": 2,
   "metadata": {},
   "outputs": [
    {
     "data": {
      "text/html": [
       "<div>\n",
       "<style scoped>\n",
       "    .dataframe tbody tr th:only-of-type {\n",
       "        vertical-align: middle;\n",
       "    }\n",
       "\n",
       "    .dataframe tbody tr th {\n",
       "        vertical-align: top;\n",
       "    }\n",
       "\n",
       "    .dataframe thead th {\n",
       "        text-align: right;\n",
       "    }\n",
       "</style>\n",
       "<table border=\"1\" class=\"dataframe\">\n",
       "  <thead>\n",
       "    <tr style=\"text-align: right;\">\n",
       "      <th></th>\n",
       "      <th>Month</th>\n",
       "      <th>#Passengers</th>\n",
       "    </tr>\n",
       "  </thead>\n",
       "  <tbody>\n",
       "    <tr>\n",
       "      <td>0</td>\n",
       "      <td>1949-01</td>\n",
       "      <td>112</td>\n",
       "    </tr>\n",
       "    <tr>\n",
       "      <td>1</td>\n",
       "      <td>1949-02</td>\n",
       "      <td>118</td>\n",
       "    </tr>\n",
       "    <tr>\n",
       "      <td>2</td>\n",
       "      <td>1949-03</td>\n",
       "      <td>132</td>\n",
       "    </tr>\n",
       "    <tr>\n",
       "      <td>3</td>\n",
       "      <td>1949-04</td>\n",
       "      <td>129</td>\n",
       "    </tr>\n",
       "    <tr>\n",
       "      <td>4</td>\n",
       "      <td>1949-05</td>\n",
       "      <td>121</td>\n",
       "    </tr>\n",
       "  </tbody>\n",
       "</table>\n",
       "</div>"
      ],
      "text/plain": [
       "     Month  #Passengers\n",
       "0  1949-01          112\n",
       "1  1949-02          118\n",
       "2  1949-03          132\n",
       "3  1949-04          129\n",
       "4  1949-05          121"
      ]
     },
     "execution_count": 2,
     "metadata": {},
     "output_type": "execute_result"
    }
   ],
   "source": [
    "data=pd.read_csv(\"AirPassengers.csv\")\n",
    "data.head()"
   ]
  },
  {
   "cell_type": "code",
   "execution_count": 3,
   "metadata": {},
   "outputs": [],
   "source": [
    "data=data['#Passengers']"
   ]
  },
  {
   "cell_type": "code",
   "execution_count": 4,
   "metadata": {},
   "outputs": [
    {
     "data": {
      "text/plain": [
       "array([[112],\n",
       "       [118],\n",
       "       [132],\n",
       "       [129],\n",
       "       [121],\n",
       "       [135],\n",
       "       [148],\n",
       "       [148],\n",
       "       [136],\n",
       "       [119],\n",
       "       [104],\n",
       "       [118],\n",
       "       [115],\n",
       "       [126],\n",
       "       [141],\n",
       "       [135],\n",
       "       [125],\n",
       "       [149],\n",
       "       [170],\n",
       "       [170],\n",
       "       [158],\n",
       "       [133],\n",
       "       [114],\n",
       "       [140],\n",
       "       [145],\n",
       "       [150],\n",
       "       [178],\n",
       "       [163],\n",
       "       [172],\n",
       "       [178],\n",
       "       [199],\n",
       "       [199],\n",
       "       [184],\n",
       "       [162],\n",
       "       [146],\n",
       "       [166],\n",
       "       [171],\n",
       "       [180],\n",
       "       [193],\n",
       "       [181],\n",
       "       [183],\n",
       "       [218],\n",
       "       [230],\n",
       "       [242],\n",
       "       [209],\n",
       "       [191],\n",
       "       [172],\n",
       "       [194],\n",
       "       [196],\n",
       "       [196],\n",
       "       [236],\n",
       "       [235],\n",
       "       [229],\n",
       "       [243],\n",
       "       [264],\n",
       "       [272],\n",
       "       [237],\n",
       "       [211],\n",
       "       [180],\n",
       "       [201],\n",
       "       [204],\n",
       "       [188],\n",
       "       [235],\n",
       "       [227],\n",
       "       [234],\n",
       "       [264],\n",
       "       [302],\n",
       "       [293],\n",
       "       [259],\n",
       "       [229],\n",
       "       [203],\n",
       "       [229],\n",
       "       [242],\n",
       "       [233],\n",
       "       [267],\n",
       "       [269],\n",
       "       [270],\n",
       "       [315],\n",
       "       [364],\n",
       "       [347],\n",
       "       [312],\n",
       "       [274],\n",
       "       [237],\n",
       "       [278],\n",
       "       [284],\n",
       "       [277],\n",
       "       [317],\n",
       "       [313],\n",
       "       [318],\n",
       "       [374],\n",
       "       [413],\n",
       "       [405],\n",
       "       [355],\n",
       "       [306],\n",
       "       [271],\n",
       "       [306],\n",
       "       [315],\n",
       "       [301],\n",
       "       [356],\n",
       "       [348],\n",
       "       [355],\n",
       "       [422],\n",
       "       [465],\n",
       "       [467],\n",
       "       [404],\n",
       "       [347],\n",
       "       [305],\n",
       "       [336],\n",
       "       [340],\n",
       "       [318],\n",
       "       [362],\n",
       "       [348],\n",
       "       [363],\n",
       "       [435],\n",
       "       [491],\n",
       "       [505],\n",
       "       [404],\n",
       "       [359],\n",
       "       [310],\n",
       "       [337],\n",
       "       [360],\n",
       "       [342],\n",
       "       [406],\n",
       "       [396],\n",
       "       [420],\n",
       "       [472],\n",
       "       [548],\n",
       "       [559],\n",
       "       [463],\n",
       "       [407],\n",
       "       [362],\n",
       "       [405],\n",
       "       [417],\n",
       "       [391],\n",
       "       [419],\n",
       "       [461],\n",
       "       [472],\n",
       "       [535],\n",
       "       [622],\n",
       "       [606],\n",
       "       [508],\n",
       "       [461],\n",
       "       [390],\n",
       "       [432]], dtype=int64)"
      ]
     },
     "execution_count": 4,
     "metadata": {},
     "output_type": "execute_result"
    }
   ],
   "source": [
    "data=np.array(data).reshape(-1,1)\n",
    "data"
   ]
  },
  {
   "cell_type": "code",
   "execution_count": 5,
   "metadata": {},
   "outputs": [
    {
     "data": {
      "text/plain": [
       "[<matplotlib.lines.Line2D at 0x1e52b281988>]"
      ]
     },
     "execution_count": 5,
     "metadata": {},
     "output_type": "execute_result"
    },
    {
     "data": {
      "image/png": "[encoded data removed]",
      "text/plain": [
       "<Figure size 432x288 with 1 Axes>"
      ]
     },
     "metadata": {
      "needs_background": "light"
     },
     "output_type": "display_data"
    }
   ],
   "source": [
    "plt.plot(data)"
   ]
  },
  {
   "cell_type": "code",
   "execution_count": 6,
   "metadata": {},
   "outputs": [
    {
     "data": {
      "text/plain": [
       "(144, 1)"
      ]
     },
     "execution_count": 6,
     "metadata": {},
     "output_type": "execute_result"
    }
   ],
   "source": [
    "# normalize the dataset\n",
    "scaler = MinMaxScaler(feature_range=(0, 1))\n",
    "dataset = scaler.fit_transform(data)\n",
    "dataset.shape"
   ]
  },
  {
   "cell_type": "code",
   "execution_count": 7,
   "metadata": {},
   "outputs": [
    {
     "data": {
      "text/plain": [
       "((100, 1), (44, 1))"
      ]
     },
     "execution_count": 7,
     "metadata": {},
     "output_type": "execute_result"
    }
   ],
   "source": [
    "# split into train and test sets\n",
    "train_size = 100\n",
    "test_size = 44\n",
    "\n",
    "train= dataset[0:train_size,:]\n",
    "test=dataset[train_size:144,:]\n",
    "\n",
    "train.shape,test.shape"
   ]
  },
  {
   "cell_type": "code",
   "execution_count": 8,
   "metadata": {},
   "outputs": [],
   "source": [
    "# convert an array of values into a dataset matrix\n",
    "def get_dataset(dataset, look_back=1):\n",
    "    dataX, dataY = [], []\n",
    "    for i in range(len(dataset)-look_back-1):\n",
    "        a = dataset[i:(i+look_back), 0]\n",
    "        dataX.append(a)\n",
    "        dataY.append(dataset[i + look_back, 0])\n",
    "    return np.array(dataX), np.array(dataY)"
   ]
  },
  {
   "cell_type": "code",
   "execution_count": 9,
   "metadata": {},
   "outputs": [
    {
     "data": {
      "text/plain": [
       "((98, 1), (98,))"
      ]
     },
     "execution_count": 9,
     "metadata": {},
     "output_type": "execute_result"
    }
   ],
   "source": [
    "# reshape into X=t and Y=t+1\n",
    "\n",
    "look_back = 1\n",
    "\n",
    "trainX, trainY = get_dataset(train, look_back)\n",
    "trainX.shape, trainY.shape"
   ]
  },
  {
   "cell_type": "code",
   "execution_count": 10,
   "metadata": {},
   "outputs": [
    {
     "data": {
      "text/plain": [
       "((42, 1), (42,))"
      ]
     },
     "execution_count": 10,
     "metadata": {},
     "output_type": "execute_result"
    }
   ],
   "source": [
    "testX, testY = get_dataset(test, look_back)\n",
    "testX.shape, testY.shape"
   ]
  },
  {
   "cell_type": "markdown",
   "metadata": {},
   "source": [
    "The LSTM network expects the input data (X) to be provided with a specific array structure in the form of: [samples, time steps, features]."
   ]
  },
  {
   "cell_type": "code",
   "execution_count": 11,
   "metadata": {},
   "outputs": [],
   "source": [
    "# reshape input to be [samples, time steps, features]\n",
    "trainX = np.reshape(trainX, (trainX.shape[0], 1, trainX.shape[1]))\n",
    "testX = np.reshape(testX, (testX.shape[0], 1, testX.shape[1]))"
   ]
  },
  {
   "cell_type": "markdown",
   "metadata": {},
   "source": [
    "The network has a visible layer with 1 input, a hidden layer with 4 LSTM blocks or neurons, and an output layer that makes a single value prediction. The default sigmoid activation function is used for the LSTM blocks. The network is trained for 100 epochs and a batch size of 1 is used."
   ]
  },
  {
   "cell_type": "code",
   "execution_count": 12,
   "metadata": {},
   "outputs": [
    {
     "name": "stdout",
     "output_type": "stream",
     "text": [
      "Model: \"sequential\"\n",
      "_________________________________________________________________\n",
      "Layer (type)                 Output Shape              Param #   \n",
      "=================================================================\n",
      "lstm (LSTM)                  (None, 4)                 96        \n",
      "_________________________________________________________________\n",
      "dense (Dense)                (None, 1)                 5         \n",
      "=================================================================\n",
      "Total params: 101\n",
      "Trainable params: 101\n",
      "Non-trainable params: 0\n",
      "_________________________________________________________________\n"
     ]
    }
   ],
   "source": [
    "# create  the LSTM network\n",
    "model = Sequential()\n",
    "model.add(LSTM(4, input_shape=(1, look_back)))\n",
    "model.add(Dense(1))\n",
    "model.summary()"
   ]
  },
  {
   "cell_type": "code",
   "execution_count": 13,
   "metadata": {},
   "outputs": [
    {
     "name": "stdout",
     "output_type": "stream",
     "text": [
      "Epoch 1/100\n",
      "98/98 - 0s - loss: 0.0402\n",
      "Epoch 2/100\n",
      "98/98 - 0s - loss: 0.0196\n",
      "Epoch 3/100\n",
      "98/98 - 0s - loss: 0.0143\n",
      "Epoch 4/100\n",
      "98/98 - 0s - loss: 0.0131\n",
      "Epoch 5/100\n",
      "98/98 - 0s - loss: 0.0121\n",
      "Epoch 6/100\n",
      "98/98 - 0s - loss: 0.0113\n",
      "Epoch 7/100\n",
      "98/98 - 0s - loss: 0.0104\n",
      "Epoch 8/100\n",
      "98/98 - 0s - loss: 0.0095\n",
      "Epoch 9/100\n",
      "98/98 - 0s - loss: 0.0085\n",
      "Epoch 10/100\n",
      "98/98 - 0s - loss: 0.0076\n",
      "Epoch 11/100\n",
      "98/98 - 0s - loss: 0.0067\n",
      "Epoch 12/100\n",
      "98/98 - 0s - loss: 0.0060\n",
      "Epoch 13/100\n",
      "98/98 - 0s - loss: 0.0052\n",
      "Epoch 14/100\n",
      "98/98 - 0s - loss: 0.0045\n",
      "Epoch 15/100\n",
      "98/98 - 0s - loss: 0.0039\n",
      "Epoch 16/100\n",
      "98/98 - 0s - loss: 0.0034\n",
      "Epoch 17/100\n",
      "98/98 - 0s - loss: 0.0031\n",
      "Epoch 18/100\n",
      "98/98 - 0s - loss: 0.0028\n",
      "Epoch 19/100\n",
      "98/98 - 0s - loss: 0.0026\n",
      "Epoch 20/100\n",
      "98/98 - 0s - loss: 0.0024\n",
      "Epoch 21/100\n",
      "98/98 - 0s - loss: 0.0023\n",
      "Epoch 22/100\n",
      "98/98 - 0s - loss: 0.0022\n",
      "Epoch 23/100\n",
      "98/98 - 0s - loss: 0.0022\n",
      "Epoch 24/100\n",
      "98/98 - 0s - loss: 0.0022\n",
      "Epoch 25/100\n",
      "98/98 - 0s - loss: 0.0022\n",
      "Epoch 26/100\n",
      "98/98 - 0s - loss: 0.0021\n",
      "Epoch 27/100\n",
      "98/98 - 0s - loss: 0.0021\n",
      "Epoch 28/100\n",
      "98/98 - 0s - loss: 0.0022\n",
      "Epoch 29/100\n",
      "98/98 - 0s - loss: 0.0021\n",
      "Epoch 30/100\n",
      "98/98 - 0s - loss: 0.0021\n",
      "Epoch 31/100\n",
      "98/98 - 0s - loss: 0.0021\n",
      "Epoch 32/100\n",
      "98/98 - 0s - loss: 0.0022\n",
      "Epoch 33/100\n",
      "98/98 - 0s - loss: 0.0021\n",
      "Epoch 34/100\n",
      "98/98 - 0s - loss: 0.0021\n",
      "Epoch 35/100\n",
      "98/98 - 0s - loss: 0.0022\n",
      "Epoch 36/100\n",
      "98/98 - 0s - loss: 0.0020\n",
      "Epoch 37/100\n",
      "98/98 - 0s - loss: 0.0022\n",
      "Epoch 38/100\n",
      "98/98 - 0s - loss: 0.0021\n",
      "Epoch 39/100\n",
      "98/98 - 0s - loss: 0.0021\n",
      "Epoch 40/100\n",
      "98/98 - 0s - loss: 0.0021\n",
      "Epoch 41/100\n",
      "98/98 - 0s - loss: 0.0022\n",
      "Epoch 42/100\n",
      "98/98 - 0s - loss: 0.0022\n",
      "Epoch 43/100\n",
      "98/98 - 0s - loss: 0.0021\n",
      "Epoch 44/100\n",
      "98/98 - 0s - loss: 0.0021\n",
      "Epoch 45/100\n",
      "98/98 - 0s - loss: 0.0022\n",
      "Epoch 46/100\n",
      "98/98 - 0s - loss: 0.0021\n",
      "Epoch 47/100\n",
      "98/98 - 0s - loss: 0.0022\n",
      "Epoch 48/100\n",
      "98/98 - 0s - loss: 0.0021\n",
      "Epoch 49/100\n",
      "98/98 - 0s - loss: 0.0021\n",
      "Epoch 50/100\n",
      "98/98 - 0s - loss: 0.0022\n",
      "Epoch 51/100\n",
      "98/98 - 0s - loss: 0.0021\n",
      "Epoch 52/100\n",
      "98/98 - 0s - loss: 0.0022\n",
      "Epoch 53/100\n",
      "98/98 - 0s - loss: 0.0022\n",
      "Epoch 54/100\n",
      "98/98 - 0s - loss: 0.0021\n",
      "Epoch 55/100\n",
      "98/98 - 0s - loss: 0.0022\n",
      "Epoch 56/100\n",
      "98/98 - 0s - loss: 0.0022\n",
      "Epoch 57/100\n",
      "98/98 - 0s - loss: 0.0022\n",
      "Epoch 58/100\n",
      "98/98 - 0s - loss: 0.0021\n",
      "Epoch 59/100\n",
      "98/98 - 0s - loss: 0.0021\n",
      "Epoch 60/100\n",
      "98/98 - 0s - loss: 0.0022\n",
      "Epoch 61/100\n",
      "98/98 - 0s - loss: 0.0021\n",
      "Epoch 62/100\n",
      "98/98 - 0s - loss: 0.0021\n",
      "Epoch 63/100\n",
      "98/98 - 0s - loss: 0.0021\n",
      "Epoch 64/100\n",
      "98/98 - 0s - loss: 0.0021\n",
      "Epoch 65/100\n",
      "98/98 - 0s - loss: 0.0021\n",
      "Epoch 66/100\n",
      "98/98 - 0s - loss: 0.0021\n",
      "Epoch 67/100\n",
      "98/98 - 0s - loss: 0.0021\n",
      "Epoch 68/100\n",
      "98/98 - 0s - loss: 0.0022\n",
      "Epoch 69/100\n",
      "98/98 - 0s - loss: 0.0021\n",
      "Epoch 70/100\n",
      "98/98 - 0s - loss: 0.0022\n",
      "Epoch 71/100\n",
      "98/98 - 0s - loss: 0.0021\n",
      "Epoch 72/100\n",
      "98/98 - 0s - loss: 0.0021\n",
      "Epoch 73/100\n",
      "98/98 - 0s - loss: 0.0021\n",
      "Epoch 74/100\n",
      "98/98 - 0s - loss: 0.0021\n",
      "Epoch 75/100\n",
      "98/98 - 0s - loss: 0.0022\n",
      "Epoch 76/100\n",
      "98/98 - 0s - loss: 0.0021\n",
      "Epoch 77/100\n",
      "98/98 - 0s - loss: 0.0022\n",
      "Epoch 78/100\n",
      "98/98 - 0s - loss: 0.0021\n",
      "Epoch 79/100\n",
      "98/98 - 0s - loss: 0.0021\n",
      "Epoch 80/100\n",
      "98/98 - 0s - loss: 0.0021\n",
      "Epoch 81/100\n",
      "98/98 - 0s - loss: 0.0021\n",
      "Epoch 82/100\n",
      "98/98 - 0s - loss: 0.0021\n",
      "Epoch 83/100\n",
      "98/98 - 0s - loss: 0.0021\n",
      "Epoch 84/100\n",
      "98/98 - 0s - loss: 0.0021\n",
      "Epoch 85/100\n",
      "98/98 - 0s - loss: 0.0021\n",
      "Epoch 86/100\n",
      "98/98 - 0s - loss: 0.0021\n",
      "Epoch 87/100\n",
      "98/98 - 0s - loss: 0.0021\n",
      "Epoch 88/100\n",
      "98/98 - 0s - loss: 0.0022\n",
      "Epoch 89/100\n",
      "98/98 - 0s - loss: 0.0021\n",
      "Epoch 90/100\n",
      "98/98 - 0s - loss: 0.0021\n",
      "Epoch 91/100\n",
      "98/98 - 0s - loss: 0.0022\n",
      "Epoch 92/100\n",
      "98/98 - 0s - loss: 0.0022\n",
      "Epoch 93/100\n",
      "98/98 - 0s - loss: 0.0021\n",
      "Epoch 94/100\n",
      "98/98 - 0s - loss: 0.0021\n",
      "Epoch 95/100\n",
      "98/98 - 0s - loss: 0.0021\n",
      "Epoch 96/100\n",
      "98/98 - 0s - loss: 0.0021\n",
      "Epoch 97/100\n",
      "98/98 - 0s - loss: 0.0021\n",
      "Epoch 98/100\n",
      "98/98 - 0s - loss: 0.0021\n",
      "Epoch 99/100\n",
      "98/98 - 0s - loss: 0.0022\n",
      "Epoch 100/100\n",
      "98/98 - 0s - loss: 0.0021\n"
     ]
    },
    {
     "data": {
      "text/plain": [
       "<tensorflow.python.keras.callbacks.History at 0x1e52e9ccc48>"
      ]
     },
     "execution_count": 13,
     "metadata": {},
     "output_type": "execute_result"
    }
   ],
   "source": [
    "# fit the LSTM network\n",
    "model.compile(loss='mean_squared_error', optimizer='adam')\n",
    "model.fit(trainX, trainY, epochs=100, batch_size=1, verbose=2)"
   ]
  },
  {
   "cell_type": "code",
   "execution_count": 14,
   "metadata": {},
   "outputs": [
    {
     "data": {
      "text/plain": [
       "array([[0.47369212],\n",
       "       [0.5875375 ],\n",
       "       [0.6555231 ],\n",
       "       [0.658582  ],\n",
       "       [0.5578532 ],\n",
       "       [0.45952946],\n",
       "       [0.38359198],\n",
       "       [0.43988505],\n",
       "       [0.44705054],\n",
       "       [0.40735155],\n",
       "       [0.485994  ],\n",
       "       [0.46130565],\n",
       "       [0.48774427],\n",
       "       [0.60853374],\n",
       "       [0.6945615 ],\n",
       "       [0.7149285 ],\n",
       "       [0.5578532 ],\n",
       "       [0.48073235],\n",
       "       [0.39275402],\n",
       "       [0.44167873],\n",
       "       [0.48248807],\n",
       "       [0.45062393],\n",
       "       [0.56118596],\n",
       "       [0.5444385 ],\n",
       "       [0.5842741 ],\n",
       "       [0.6661885 ],\n",
       "       [0.77464324],\n",
       "       [0.789241  ],\n",
       "       [0.652455  ],\n",
       "       [0.56284916],\n",
       "       [0.48599398],\n",
       "       [0.55952066],\n",
       "       [0.57936245],\n",
       "       [0.53598684],\n",
       "       [0.5826391 ],\n",
       "       [0.6493775 ],\n",
       "       [0.6661885 ],\n",
       "       [0.75703835],\n",
       "       [0.86774814],\n",
       "       [0.8486103 ],\n",
       "       [0.7192333 ],\n",
       "       [0.6493775 ]], dtype=float32)"
      ]
     },
     "execution_count": 14,
     "metadata": {},
     "output_type": "execute_result"
    }
   ],
   "source": [
    "# make predictions\n",
    "trainPredict = model.predict(trainX)\n",
    "testPredict = model.predict(testX)\n",
    "testPredict"
   ]
  },
  {
   "cell_type": "code",
   "execution_count": 15,
   "metadata": {},
   "outputs": [],
   "source": [
    "# invert predictions\n",
    "trainPredict = scaler.inverse_transform(trainPredict)\n",
    "trainY = scaler.inverse_transform([trainY])\n",
    "testPredict = scaler.inverse_transform(testPredict)\n",
    "testY = scaler.inverse_transform([testY])\n"
   ]
  },
  {
   "cell_type": "code",
   "execution_count": 16,
   "metadata": {},
   "outputs": [
    {
     "name": "stdout",
     "output_type": "stream",
     "text": [
      "Train Score: 23.30 RMSE\n",
      "Test Score: 50.54 RMSE\n"
     ]
    }
   ],
   "source": [
    "# calculate root mean squared error\n",
    "trainScore = math.sqrt(mean_squared_error(trainY[0], trainPredict[:,0]))\n",
    "print('Train Score: %.2f RMSE' % (trainScore))\n",
    "testScore = math.sqrt(mean_squared_error(testY[0], testPredict[:,0]))\n",
    "print('Test Score: %.2f RMSE' % (testScore))"
   ]
  },
  {
   "cell_type": "markdown",
   "metadata": {},
   "source": [
    "We can see that the model has an average error of about 23 passengers (in thousands) on the training dataset, and about 48 passengers (in thousands) on the test dataset. Not that bad."
   ]
  },
  {
   "cell_type": "code",
   "execution_count": 17,
   "metadata": {},
   "outputs": [
    {
     "data": {
      "image/png": "[encoded data removed]",
      "text/plain": [
       "<Figure size 432x288 with 1 Axes>"
      ]
     },
     "metadata": {
      "needs_background": "light"
     },
     "output_type": "display_data"
    }
   ],
   "source": [
    "# shift train predictions for plotting\n",
    "trainPredictPlot = np.empty_like(dataset)\n",
    "trainPredictPlot[:, :] = np.nan\n",
    "trainPredictPlot[look_back:len(trainPredict)+look_back, :] = trainPredict\n",
    "\n",
    "# shift test predictions for plotting\n",
    "testPredictPlot = np.empty_like(dataset)\n",
    "testPredictPlot[:, :] = np.nan\n",
    "testPredictPlot[len(trainPredict)+(look_back*2)+1:len(dataset)-1, :] = testPredict\n",
    "\n",
    "# plot baseline and predictions\n",
    "plt.plot(scaler.inverse_transform(dataset))\n",
    "plt.plot(trainPredictPlot)\n",
    "plt.plot(testPredictPlot)\n",
    "plt.show()"
   ]
  },
  {
   "cell_type": "markdown",
   "metadata": {},
   "source": [
    "# LSTM for Regression Using the Window Method"
   ]
  },
  {
   "cell_type": "code",
   "execution_count": 18,
   "metadata": {},
   "outputs": [],
   "source": [
    "# We can re-run the example in the previous section with the larger window size. "
   ]
  },
  {
   "cell_type": "code",
   "execution_count": 19,
   "metadata": {},
   "outputs": [],
   "source": [
    "# reshape into X=t and Y=t+1\n",
    "look_back = 3\n",
    "trainX1, trainY1 = get_dataset(train, look_back)\n",
    "testX1, testY1 = get_dataset(test, look_back)\n"
   ]
  },
  {
   "cell_type": "code",
   "execution_count": 20,
   "metadata": {},
   "outputs": [
    {
     "data": {
      "text/plain": [
       "((96, 1, 3), (96,))"
      ]
     },
     "execution_count": 20,
     "metadata": {},
     "output_type": "execute_result"
    }
   ],
   "source": [
    "# reshape input to be [samples, time steps, features]\n",
    "trainX1 = np.reshape(trainX1, (trainX1.shape[0], 1, trainX1.shape[1]))\n",
    "testX1 = np.reshape(testX1, (testX1.shape[0], 1, testX1.shape[1]))\n",
    "trainX1.shape, trainY1.shape"
   ]
  },
  {
   "cell_type": "code",
   "execution_count": 21,
   "metadata": {},
   "outputs": [],
   "source": [
    "# create and fit the LSTM network\n",
    "model = Sequential()\n",
    "model.add(LSTM(4, input_shape=(1, look_back)))\n",
    "model.add(Dense(1))\n",
    "model.compile(loss='mean_squared_error', optimizer='adam')\n"
   ]
  },
  {
   "cell_type": "code",
   "execution_count": 22,
   "metadata": {},
   "outputs": [
    {
     "name": "stdout",
     "output_type": "stream",
     "text": [
      "Epoch 1/100\n",
      "96/96 - 0s - loss: 0.0697\n",
      "Epoch 2/100\n",
      "96/96 - 0s - loss: 0.0300\n",
      "Epoch 3/100\n",
      "96/96 - 1s - loss: 0.0177\n",
      "Epoch 4/100\n",
      "96/96 - 1s - loss: 0.0144\n",
      "Epoch 5/100\n",
      "96/96 - 0s - loss: 0.0124\n",
      "Epoch 6/100\n",
      "96/96 - 0s - loss: 0.0107\n",
      "Epoch 7/100\n",
      "96/96 - 0s - loss: 0.0092\n",
      "Epoch 8/100\n",
      "96/96 - 0s - loss: 0.0079\n",
      "Epoch 9/100\n",
      "96/96 - 0s - loss: 0.0066\n",
      "Epoch 10/100\n",
      "96/96 - 0s - loss: 0.0058\n",
      "Epoch 11/100\n",
      "96/96 - 0s - loss: 0.0050\n",
      "Epoch 12/100\n",
      "96/96 - 0s - loss: 0.0046\n",
      "Epoch 13/100\n",
      "96/96 - 0s - loss: 0.0042\n",
      "Epoch 14/100\n",
      "96/96 - 0s - loss: 0.0042\n",
      "Epoch 15/100\n",
      "96/96 - 0s - loss: 0.0038\n",
      "Epoch 16/100\n",
      "96/96 - 0s - loss: 0.0038\n",
      "Epoch 17/100\n",
      "96/96 - 0s - loss: 0.0036\n",
      "Epoch 18/100\n",
      "96/96 - 0s - loss: 0.0036\n",
      "Epoch 19/100\n",
      "96/96 - 0s - loss: 0.0036\n",
      "Epoch 20/100\n",
      "96/96 - 0s - loss: 0.0035\n",
      "Epoch 21/100\n",
      "96/96 - 0s - loss: 0.0036\n",
      "Epoch 22/100\n",
      "96/96 - 0s - loss: 0.0035\n",
      "Epoch 23/100\n",
      "96/96 - 0s - loss: 0.0034\n",
      "Epoch 24/100\n",
      "96/96 - 0s - loss: 0.0034\n",
      "Epoch 25/100\n",
      "96/96 - 0s - loss: 0.0033\n",
      "Epoch 26/100\n",
      "96/96 - 0s - loss: 0.0034\n",
      "Epoch 27/100\n",
      "96/96 - 0s - loss: 0.0034\n",
      "Epoch 28/100\n",
      "96/96 - 0s - loss: 0.0034\n",
      "Epoch 29/100\n",
      "96/96 - 0s - loss: 0.0033\n",
      "Epoch 30/100\n",
      "96/96 - 1s - loss: 0.0033\n",
      "Epoch 31/100\n",
      "96/96 - 0s - loss: 0.0033\n",
      "Epoch 32/100\n",
      "96/96 - 0s - loss: 0.0032\n",
      "Epoch 33/100\n",
      "96/96 - 0s - loss: 0.0032\n",
      "Epoch 34/100\n",
      "96/96 - 0s - loss: 0.0032\n",
      "Epoch 35/100\n",
      "96/96 - 0s - loss: 0.0032\n",
      "Epoch 36/100\n",
      "96/96 - 0s - loss: 0.0031\n",
      "Epoch 37/100\n",
      "96/96 - 0s - loss: 0.0033\n",
      "Epoch 38/100\n",
      "96/96 - 0s - loss: 0.0030\n",
      "Epoch 39/100\n",
      "96/96 - 0s - loss: 0.0031\n",
      "Epoch 40/100\n",
      "96/96 - 0s - loss: 0.0031\n",
      "Epoch 41/100\n",
      "96/96 - 0s - loss: 0.0031\n",
      "Epoch 42/100\n",
      "96/96 - 0s - loss: 0.0031\n",
      "Epoch 43/100\n",
      "96/96 - 0s - loss: 0.0031\n",
      "Epoch 44/100\n",
      "96/96 - 0s - loss: 0.0030\n",
      "Epoch 45/100\n",
      "96/96 - 0s - loss: 0.0030\n",
      "Epoch 46/100\n",
      "96/96 - 0s - loss: 0.0029\n",
      "Epoch 47/100\n",
      "96/96 - 0s - loss: 0.0029\n",
      "Epoch 48/100\n",
      "96/96 - 0s - loss: 0.0028\n",
      "Epoch 49/100\n",
      "96/96 - 0s - loss: 0.0030\n",
      "Epoch 50/100\n",
      "96/96 - 0s - loss: 0.0029\n",
      "Epoch 51/100\n",
      "96/96 - 0s - loss: 0.0028\n",
      "Epoch 52/100\n",
      "96/96 - 0s - loss: 0.0029\n",
      "Epoch 53/100\n",
      "96/96 - 0s - loss: 0.0028\n",
      "Epoch 54/100\n",
      "96/96 - 0s - loss: 0.0028\n",
      "Epoch 55/100\n",
      "96/96 - 0s - loss: 0.0028\n",
      "Epoch 56/100\n",
      "96/96 - 0s - loss: 0.0027\n",
      "Epoch 57/100\n",
      "96/96 - 0s - loss: 0.0027\n",
      "Epoch 58/100\n",
      "96/96 - 0s - loss: 0.0026\n",
      "Epoch 59/100\n",
      "96/96 - 0s - loss: 0.0027\n",
      "Epoch 60/100\n",
      "96/96 - 0s - loss: 0.0027\n",
      "Epoch 61/100\n",
      "96/96 - 0s - loss: 0.0025\n",
      "Epoch 62/100\n",
      "96/96 - 0s - loss: 0.0025\n",
      "Epoch 63/100\n",
      "96/96 - 0s - loss: 0.0024\n",
      "Epoch 64/100\n",
      "96/96 - 0s - loss: 0.0026\n",
      "Epoch 65/100\n",
      "96/96 - 0s - loss: 0.0025\n",
      "Epoch 66/100\n",
      "96/96 - 0s - loss: 0.0024\n",
      "Epoch 67/100\n",
      "96/96 - 0s - loss: 0.0024\n",
      "Epoch 68/100\n",
      "96/96 - 0s - loss: 0.0024\n",
      "Epoch 69/100\n",
      "96/96 - 0s - loss: 0.0023\n",
      "Epoch 70/100\n",
      "96/96 - 0s - loss: 0.0025\n",
      "Epoch 71/100\n",
      "96/96 - 0s - loss: 0.0023\n",
      "Epoch 72/100\n",
      "96/96 - 0s - loss: 0.0022\n",
      "Epoch 73/100\n",
      "96/96 - 0s - loss: 0.0023\n",
      "Epoch 74/100\n",
      "96/96 - 0s - loss: 0.0022\n",
      "Epoch 75/100\n",
      "96/96 - 0s - loss: 0.0023\n",
      "Epoch 76/100\n",
      "96/96 - 0s - loss: 0.0021\n",
      "Epoch 77/100\n",
      "96/96 - 0s - loss: 0.0023\n",
      "Epoch 78/100\n",
      "96/96 - 0s - loss: 0.0022\n",
      "Epoch 79/100\n",
      "96/96 - 0s - loss: 0.0021\n",
      "Epoch 80/100\n",
      "96/96 - 0s - loss: 0.0021\n",
      "Epoch 81/100\n",
      "96/96 - 0s - loss: 0.0022\n",
      "Epoch 82/100\n",
      "96/96 - 0s - loss: 0.0022\n",
      "Epoch 83/100\n",
      "96/96 - 0s - loss: 0.0021\n",
      "Epoch 84/100\n",
      "96/96 - 0s - loss: 0.0020\n",
      "Epoch 85/100\n",
      "96/96 - 0s - loss: 0.0021\n",
      "Epoch 86/100\n",
      "96/96 - 0s - loss: 0.0020\n",
      "Epoch 87/100\n",
      "96/96 - 0s - loss: 0.0020\n",
      "Epoch 88/100\n",
      "96/96 - 0s - loss: 0.0021\n",
      "Epoch 89/100\n",
      "96/96 - 0s - loss: 0.0020\n",
      "Epoch 90/100\n",
      "96/96 - 0s - loss: 0.0021\n",
      "Epoch 91/100\n",
      "96/96 - 0s - loss: 0.0019\n",
      "Epoch 92/100\n",
      "96/96 - 0s - loss: 0.0020\n",
      "Epoch 93/100\n",
      "96/96 - 0s - loss: 0.0020\n",
      "Epoch 94/100\n",
      "96/96 - 0s - loss: 0.0019\n",
      "Epoch 95/100\n",
      "96/96 - 0s - loss: 0.0020\n",
      "Epoch 96/100\n",
      "96/96 - 0s - loss: 0.0021\n",
      "Epoch 97/100\n",
      "96/96 - 0s - loss: 0.0020\n",
      "Epoch 98/100\n",
      "96/96 - 0s - loss: 0.0022\n",
      "Epoch 99/100\n",
      "96/96 - 0s - loss: 0.0019\n",
      "Epoch 100/100\n",
      "96/96 - 0s - loss: 0.0020\n"
     ]
    },
    {
     "data": {
      "text/plain": [
       "<tensorflow.python.keras.callbacks.History at 0x1e53200f8c8>"
      ]
     },
     "execution_count": 22,
     "metadata": {},
     "output_type": "execute_result"
    }
   ],
   "source": [
    "model.fit(trainX1, trainY1, epochs=100, batch_size=1, verbose=2)"
   ]
  },
  {
   "cell_type": "code",
   "execution_count": 23,
   "metadata": {},
   "outputs": [],
   "source": [
    "# make predictions\n",
    "trainPredict1 = model.predict(trainX1)\n",
    "testPredict1 = model.predict(testX1)\n",
    "\n"
   ]
  },
  {
   "cell_type": "code",
   "execution_count": 24,
   "metadata": {},
   "outputs": [],
   "source": [
    "# invert predictions\n",
    "trainPredict1 = scaler.inverse_transform(trainPredict1)\n",
    "trainY1 = scaler.inverse_transform([trainY1])\n",
    "testPredict1 = scaler.inverse_transform(testPredict1)\n",
    "testY1 = scaler.inverse_transform([testY1])"
   ]
  },
  {
   "cell_type": "code",
   "execution_count": 25,
   "metadata": {},
   "outputs": [
    {
     "name": "stdout",
     "output_type": "stream",
     "text": [
      "Train Score: 22.18 RMSE\n",
      "Test Score: 61.62 RMSE\n"
     ]
    }
   ],
   "source": [
    "# calculate root mean squared error\n",
    "trainScore = math.sqrt(mean_squared_error(trainY1[0], trainPredict1[:,0]))\n",
    "print('Train Score: %.2f RMSE' % (trainScore))\n",
    "testScore = math.sqrt(mean_squared_error(testY1[0], testPredict1[:,0]))\n",
    "print('Test Score: %.2f RMSE' % (testScore))\n"
   ]
  },
  {
   "cell_type": "code",
   "execution_count": 26,
   "metadata": {},
   "outputs": [
    {
     "data": {
      "image/png": "[encoded data removed]",
      "text/plain": [
       "<Figure size 432x288 with 1 Axes>"
      ]
     },
     "metadata": {
      "needs_background": "light"
     },
     "output_type": "display_data"
    }
   ],
   "source": [
    "# shift train predictions for plotting\n",
    "trainPredictPlot = np.empty_like(dataset)\n",
    "trainPredictPlot[:, :] = np.nan\n",
    "trainPredictPlot[look_back:len(trainPredict1)+look_back, :] = trainPredict1\n",
    "\n",
    "# shift test predictions for plotting\n",
    "testPredictPlot = np.empty_like(dataset)\n",
    "testPredictPlot[:, :] = np.nan\n",
    "testPredictPlot[len(trainPredict1)+(look_back*2)+1:len(dataset)-1, :] = testPredict1\n",
    "# plot baseline and predictions\n",
    "plt.plot(scaler.inverse_transform(dataset))\n",
    "plt.plot(trainPredictPlot)\n",
    "plt.plot(testPredictPlot)\n",
    "plt.show()"
   ]
  },
  {
   "cell_type": "markdown",
   "metadata": {},
   "source": [
    "# LSTM for Regression with Time Steps\n",
    "\n",
    "Instead of phrasing the past observations as separate input features, we can use them as time steps of the one input feature, which is indeed a more accurate framing of the problem.\n",
    "\n",
    "We can do this using the same data representation as in the previous window-based example, except when we reshape the data, we set the columns to be the time steps dimension and change the features dimension back to 1. For example:"
   ]
  },
  {
   "cell_type": "code",
   "execution_count": 27,
   "metadata": {},
   "outputs": [],
   "source": [
    "# reshape into X=t and Y=t+1\n",
    "look_back = 3\n",
    "trainX2, trainY2 = get_dataset(train, look_back)\n",
    "testX2, testY2 = get_dataset(test, look_back)\n"
   ]
  },
  {
   "cell_type": "code",
   "execution_count": 28,
   "metadata": {},
   "outputs": [
    {
     "data": {
      "text/plain": [
       "((96, 3, 1), (96,))"
      ]
     },
     "execution_count": 28,
     "metadata": {},
     "output_type": "execute_result"
    }
   ],
   "source": [
    "# reshape input to be [samples, time steps, features]\n",
    "trainX2 = np.reshape(trainX2, (trainX2.shape[0], trainX2.shape[1], 1))\n",
    "testX2 = np.reshape(testX2, (testX2.shape[0], testX2.shape[1], 1))\n",
    "trainX2.shape, trainY2.shape"
   ]
  },
  {
   "cell_type": "code",
   "execution_count": 29,
   "metadata": {},
   "outputs": [
    {
     "name": "stdout",
     "output_type": "stream",
     "text": [
      "Epoch 1/100\n",
      "96/96 - 0s - loss: 0.0345\n",
      "Epoch 2/100\n",
      "96/96 - 0s - loss: 0.0137\n",
      "Epoch 3/100\n",
      "96/96 - 0s - loss: 0.0115\n",
      "Epoch 4/100\n",
      "96/96 - 0s - loss: 0.0100\n",
      "Epoch 5/100\n",
      "96/96 - 0s - loss: 0.0086\n",
      "Epoch 6/100\n",
      "96/96 - 0s - loss: 0.0070\n",
      "Epoch 7/100\n",
      "96/96 - 0s - loss: 0.0059\n",
      "Epoch 8/100\n",
      "96/96 - 0s - loss: 0.0051\n",
      "Epoch 9/100\n",
      "96/96 - 0s - loss: 0.0046\n",
      "Epoch 10/100\n",
      "96/96 - 0s - loss: 0.0043\n",
      "Epoch 11/100\n",
      "96/96 - 0s - loss: 0.0042\n",
      "Epoch 12/100\n",
      "96/96 - 0s - loss: 0.0038\n",
      "Epoch 13/100\n",
      "96/96 - 0s - loss: 0.0040\n",
      "Epoch 14/100\n",
      "96/96 - 0s - loss: 0.0039\n",
      "Epoch 15/100\n",
      "96/96 - 0s - loss: 0.0038\n",
      "Epoch 16/100\n",
      "96/96 - 0s - loss: 0.0038\n",
      "Epoch 17/100\n",
      "96/96 - 0s - loss: 0.0038\n",
      "Epoch 18/100\n",
      "96/96 - 0s - loss: 0.0037\n",
      "Epoch 19/100\n",
      "96/96 - 0s - loss: 0.0038\n",
      "Epoch 20/100\n",
      "96/96 - 0s - loss: 0.0038\n",
      "Epoch 21/100\n",
      "96/96 - 0s - loss: 0.0039\n",
      "Epoch 22/100\n",
      "96/96 - 0s - loss: 0.0037\n",
      "Epoch 23/100\n",
      "96/96 - 0s - loss: 0.0036\n",
      "Epoch 24/100\n",
      "96/96 - 0s - loss: 0.0038\n",
      "Epoch 25/100\n",
      "96/96 - 0s - loss: 0.0037\n",
      "Epoch 26/100\n",
      "96/96 - 0s - loss: 0.0037\n",
      "Epoch 27/100\n",
      "96/96 - 0s - loss: 0.0037\n",
      "Epoch 28/100\n",
      "96/96 - 0s - loss: 0.0035\n",
      "Epoch 29/100\n",
      "96/96 - 0s - loss: 0.0037\n",
      "Epoch 30/100\n",
      "96/96 - 0s - loss: 0.0036\n",
      "Epoch 31/100\n",
      "96/96 - 0s - loss: 0.0036\n",
      "Epoch 32/100\n",
      "96/96 - 0s - loss: 0.0038\n",
      "Epoch 33/100\n",
      "96/96 - 0s - loss: 0.0036\n",
      "Epoch 34/100\n",
      "96/96 - 0s - loss: 0.0035\n",
      "Epoch 35/100\n",
      "96/96 - 0s - loss: 0.0038\n",
      "Epoch 36/100\n",
      "96/96 - 0s - loss: 0.0035\n",
      "Epoch 37/100\n",
      "96/96 - 0s - loss: 0.0035\n",
      "Epoch 38/100\n",
      "96/96 - 0s - loss: 0.0036\n",
      "Epoch 39/100\n",
      "96/96 - 0s - loss: 0.0034\n",
      "Epoch 40/100\n",
      "96/96 - 0s - loss: 0.0034\n",
      "Epoch 41/100\n",
      "96/96 - 0s - loss: 0.0033\n",
      "Epoch 42/100\n",
      "96/96 - 0s - loss: 0.0035\n",
      "Epoch 43/100\n",
      "96/96 - 0s - loss: 0.0034\n",
      "Epoch 44/100\n",
      "96/96 - 0s - loss: 0.0034\n",
      "Epoch 45/100\n",
      "96/96 - 0s - loss: 0.0032\n",
      "Epoch 46/100\n",
      "96/96 - 0s - loss: 0.0034\n",
      "Epoch 47/100\n",
      "96/96 - 0s - loss: 0.0032\n",
      "Epoch 48/100\n",
      "96/96 - 1s - loss: 0.0034\n",
      "Epoch 49/100\n",
      "96/96 - 0s - loss: 0.0033\n",
      "Epoch 50/100\n",
      "96/96 - 1s - loss: 0.0032\n",
      "Epoch 51/100\n",
      "96/96 - 0s - loss: 0.0033\n",
      "Epoch 52/100\n",
      "96/96 - 0s - loss: 0.0034\n",
      "Epoch 53/100\n",
      "96/96 - 0s - loss: 0.0031\n",
      "Epoch 54/100\n",
      "96/96 - 0s - loss: 0.0031\n",
      "Epoch 55/100\n",
      "96/96 - 0s - loss: 0.0033\n",
      "Epoch 56/100\n",
      "96/96 - 0s - loss: 0.0032\n",
      "Epoch 57/100\n",
      "96/96 - 0s - loss: 0.0032\n",
      "Epoch 58/100\n",
      "96/96 - 0s - loss: 0.0030\n",
      "Epoch 59/100\n",
      "96/96 - 0s - loss: 0.0031\n",
      "Epoch 60/100\n",
      "96/96 - 0s - loss: 0.0032\n",
      "Epoch 61/100\n",
      "96/96 - 0s - loss: 0.0032\n",
      "Epoch 62/100\n",
      "96/96 - 0s - loss: 0.0030\n",
      "Epoch 63/100\n",
      "96/96 - 0s - loss: 0.0029\n",
      "Epoch 64/100\n",
      "96/96 - 1s - loss: 0.0031\n",
      "Epoch 65/100\n",
      "96/96 - 0s - loss: 0.0031\n",
      "Epoch 66/100\n",
      "96/96 - 0s - loss: 0.0029\n",
      "Epoch 67/100\n",
      "96/96 - 0s - loss: 0.0028\n",
      "Epoch 68/100\n",
      "96/96 - 0s - loss: 0.0030\n",
      "Epoch 69/100\n",
      "96/96 - 0s - loss: 0.0030\n",
      "Epoch 70/100\n",
      "96/96 - 0s - loss: 0.0028\n",
      "Epoch 71/100\n",
      "96/96 - 0s - loss: 0.0029\n",
      "Epoch 72/100\n",
      "96/96 - 0s - loss: 0.0028\n",
      "Epoch 73/100\n",
      "96/96 - 0s - loss: 0.0028\n",
      "Epoch 74/100\n",
      "96/96 - 0s - loss: 0.0027\n",
      "Epoch 75/100\n",
      "96/96 - 0s - loss: 0.0028\n",
      "Epoch 76/100\n",
      "96/96 - 0s - loss: 0.0027\n",
      "Epoch 77/100\n",
      "96/96 - 0s - loss: 0.0028\n",
      "Epoch 78/100\n",
      "96/96 - 0s - loss: 0.0026\n",
      "Epoch 79/100\n",
      "96/96 - 0s - loss: 0.0027\n",
      "Epoch 80/100\n",
      "96/96 - 0s - loss: 0.0026\n",
      "Epoch 81/100\n",
      "96/96 - 0s - loss: 0.0025\n",
      "Epoch 82/100\n",
      "96/96 - 0s - loss: 0.0026\n",
      "Epoch 83/100\n",
      "96/96 - 0s - loss: 0.0025\n",
      "Epoch 84/100\n",
      "96/96 - 0s - loss: 0.0024\n",
      "Epoch 85/100\n",
      "96/96 - 0s - loss: 0.0024\n",
      "Epoch 86/100\n",
      "96/96 - 0s - loss: 0.0025\n",
      "Epoch 87/100\n",
      "96/96 - 0s - loss: 0.0024\n",
      "Epoch 88/100\n",
      "96/96 - 0s - loss: 0.0023\n",
      "Epoch 89/100\n",
      "96/96 - 0s - loss: 0.0023\n",
      "Epoch 90/100\n",
      "96/96 - 0s - loss: 0.0023\n",
      "Epoch 91/100\n",
      "96/96 - 0s - loss: 0.0023\n",
      "Epoch 92/100\n",
      "96/96 - 0s - loss: 0.0023\n",
      "Epoch 93/100\n",
      "96/96 - 0s - loss: 0.0023\n",
      "Epoch 94/100\n",
      "96/96 - 0s - loss: 0.0023\n",
      "Epoch 95/100\n",
      "96/96 - 0s - loss: 0.0023\n",
      "Epoch 96/100\n",
      "96/96 - 0s - loss: 0.0022\n",
      "Epoch 97/100\n",
      "96/96 - 0s - loss: 0.0020\n",
      "Epoch 98/100\n",
      "96/96 - 0s - loss: 0.0022\n",
      "Epoch 99/100\n",
      "96/96 - 0s - loss: 0.0022\n",
      "Epoch 100/100\n",
      "96/96 - 0s - loss: 0.0021\n"
     ]
    },
    {
     "data": {
      "text/plain": [
       "<tensorflow.python.keras.callbacks.History at 0x1e53551f0c8>"
      ]
     },
     "execution_count": 29,
     "metadata": {},
     "output_type": "execute_result"
    }
   ],
   "source": [
    "# create and fit the LSTM network\n",
    "model = Sequential()\n",
    "model.add(LSTM(4, input_shape=(look_back, 1)))\n",
    "model.add(Dense(1))\n",
    "model.compile(loss='mean_squared_error', optimizer='adam')\n",
    "model.fit(trainX2, trainY2, epochs=100, batch_size=1, verbose=2)\n"
   ]
  },
  {
   "cell_type": "code",
   "execution_count": 30,
   "metadata": {},
   "outputs": [],
   "source": [
    "# make predictions\n",
    "trainPredict2 = model.predict(trainX2)\n",
    "testPredict2 = model.predict(testX2)\n"
   ]
  },
  {
   "cell_type": "code",
   "execution_count": 31,
   "metadata": {},
   "outputs": [],
   "source": [
    "# invert predictions\n",
    "trainPredict2 = scaler.inverse_transform(trainPredict2)\n",
    "trainY2 = scaler.inverse_transform([trainY2])\n",
    "testPredict2 = scaler.inverse_transform(testPredict2)\n",
    "testY2 = scaler.inverse_transform([testY2])\n"
   ]
  },
  {
   "cell_type": "code",
   "execution_count": 32,
   "metadata": {},
   "outputs": [
    {
     "name": "stdout",
     "output_type": "stream",
     "text": [
      "Train Score: 23.30 RMSE\n",
      "Test Score: 47.05 RMSE\n"
     ]
    },
    {
     "data": {
      "image/png": "[encoded data removed]",
      "text/plain": [
       "<Figure size 432x288 with 1 Axes>"
      ]
     },
     "metadata": {
      "needs_background": "light"
     },
     "output_type": "display_data"
    }
   ],
   "source": [
    "# calculate root mean squared error\n",
    "trainScore = math.sqrt(mean_squared_error(trainY2[0], trainPredict2[:,0]))\n",
    "print('Train Score: %.2f RMSE' % (trainScore))\n",
    "testScore = math.sqrt(mean_squared_error(testY2[0], testPredict2[:,0]))\n",
    "print('Test Score: %.2f RMSE' % (testScore))\n",
    "# shift train predictions for plotting\n",
    "trainPredictPlot = np.empty_like(dataset)\n",
    "trainPredictPlot[:, :] = np.nan\n",
    "trainPredictPlot[look_back:len(trainPredict2)+look_back, :] = trainPredict2\n",
    "# shift test predictions for plotting\n",
    "testPredictPlot = np.empty_like(dataset)\n",
    "testPredictPlot[:, :] = np.nan\n",
    "testPredictPlot[len(trainPredict2)+(look_back*2)+1:len(dataset)-1, :] = testPredict2\n",
    "# plot baseline and predictions\n",
    "plt.plot(scaler.inverse_transform(dataset))\n",
    "plt.plot(trainPredictPlot)\n",
    "plt.plot(testPredictPlot)\n",
    "plt.show()"
   ]
  },
  {
   "cell_type": "markdown",
   "metadata": {},
   "source": [
    "# LSTM with Memory Between Batches\n",
    "\n",
    "The LSTM network has memory, which is capable of remembering across long sequences.\n",
    "\n",
    "Normally, the state within the network is reset after each training batch when fitting the model, as well as each call to model.predict() or model.evaluate().\n",
    "\n",
    "We can gain finer control over when the internal state of the LSTM network is cleared in Keras by making the LSTM layer “stateful”. This means that it can build state over the entire training sequence and even maintain that state if needed to make predictions.\n",
    "\n",
    "It requires that the training data not be shuffled when fitting the network. It also requires explicit resetting of the network state after each exposure to the training data (epoch) by calls to model.reset_states(). This means that we must create our own outer loop of epochs and within each epoch call model.fit() and model.reset_states(). For example:"
   ]
  },
  {
   "cell_type": "code",
   "execution_count": 33,
   "metadata": {},
   "outputs": [],
   "source": [
    "# LSTM for international airline passengers problem with memory\n",
    "\n",
    "# convert an array of values into a dataset matrix\n",
    "def create_dataset(dataset, look_back=1):\n",
    "\tdataX, dataY = [], []\n",
    "\tfor i in range(len(dataset)-look_back-1):\n",
    "\t\ta = dataset[i:(i+look_back), 0]\n",
    "\t\tdataX.append(a)\n",
    "\t\tdataY.append(dataset[i + look_back, 0])\n",
    "\treturn np.array(dataX), np.array(dataY)\n",
    "# fix random seed for reproducibility\n",
    "#numpy.random.seed(7)\n",
    "\n"
   ]
  },
  {
   "cell_type": "code",
   "execution_count": 34,
   "metadata": {},
   "outputs": [],
   "source": [
    "# load the dataset\n",
    "dataframe = pd.read_csv('AirPassengers.csv', usecols=[1], engine='python')\n",
    "dataset = dataframe.values\n",
    "dataset = dataset.astype('float32')\n",
    "\n",
    "# normalize the dataset\n",
    "scaler = MinMaxScaler(feature_range=(0, 1))\n",
    "dataset = scaler.fit_transform(dataset)\n",
    "\n",
    "# split into train and test sets\n",
    "train_size = int(len(dataset) * 0.67)\n",
    "test_size = len(dataset) - train_size\n",
    "train, test = dataset[0:train_size,:], dataset[train_size:len(dataset),:]\n",
    "\n",
    "# reshape into X=t and Y=t+1\n",
    "look_back = 3\n",
    "trainX, trainY = create_dataset(train, look_back)\n",
    "testX, testY = create_dataset(test, look_back)\n",
    "\n",
    "# reshape input to be [samples, time steps, features]\n",
    "trainX = np.reshape(trainX, (trainX.shape[0], trainX.shape[1], 1))\n",
    "testX = np.reshape(testX, (testX.shape[0], testX.shape[1], 1))\n"
   ]
  },
  {
   "cell_type": "code",
   "execution_count": 35,
   "metadata": {},
   "outputs": [
    {
     "name": "stdout",
     "output_type": "stream",
     "text": [
      "92/92 - 0s - loss: 0.0040\n",
      "92/92 - 0s - loss: 0.0065\n",
      "92/92 - 0s - loss: 0.0055\n",
      "92/92 - 0s - loss: 0.0051\n",
      "92/92 - 0s - loss: 0.0048\n",
      "92/92 - 0s - loss: 0.0047\n",
      "92/92 - 0s - loss: 0.0046\n",
      "92/92 - 0s - loss: 0.0045\n",
      "92/92 - 0s - loss: 0.0044\n",
      "92/92 - 0s - loss: 0.0044\n",
      "92/92 - 0s - loss: 0.0043\n",
      "92/92 - 0s - loss: 0.0043\n",
      "92/92 - 0s - loss: 0.0042\n",
      "92/92 - 0s - loss: 0.0042\n",
      "92/92 - 0s - loss: 0.0041\n",
      "92/92 - 0s - loss: 0.0041\n",
      "92/92 - 0s - loss: 0.0041\n",
      "92/92 - 0s - loss: 0.0040\n",
      "92/92 - 0s - loss: 0.0040\n",
      "92/92 - 0s - loss: 0.0039\n",
      "92/92 - 0s - loss: 0.0039\n",
      "92/92 - 0s - loss: 0.0039\n",
      "92/92 - 0s - loss: 0.0038\n",
      "92/92 - 0s - loss: 0.0038\n",
      "92/92 - 0s - loss: 0.0037\n",
      "92/92 - 0s - loss: 0.0037\n",
      "92/92 - 0s - loss: 0.0037\n",
      "92/92 - 0s - loss: 0.0036\n",
      "92/92 - 0s - loss: 0.0036\n",
      "92/92 - 0s - loss: 0.0035\n",
      "92/92 - 0s - loss: 0.0035\n",
      "92/92 - 0s - loss: 0.0035\n",
      "92/92 - 0s - loss: 0.0034\n",
      "92/92 - 0s - loss: 0.0034\n",
      "92/92 - 0s - loss: 0.0033\n",
      "92/92 - 0s - loss: 0.0033\n",
      "92/92 - 0s - loss: 0.0033\n",
      "92/92 - 0s - loss: 0.0032\n",
      "92/92 - 0s - loss: 0.0032\n",
      "92/92 - 0s - loss: 0.0032\n",
      "92/92 - 0s - loss: 0.0031\n",
      "92/92 - 0s - loss: 0.0031\n",
      "92/92 - 0s - loss: 0.0031\n",
      "92/92 - 0s - loss: 0.0031\n",
      "92/92 - 0s - loss: 0.0031\n",
      "92/92 - 0s - loss: 0.0030\n",
      "92/92 - 0s - loss: 0.0030\n",
      "92/92 - 0s - loss: 0.0030\n",
      "92/92 - 0s - loss: 0.0030\n",
      "92/92 - 0s - loss: 0.0030\n",
      "92/92 - 0s - loss: 0.0029\n",
      "92/92 - 0s - loss: 0.0029\n",
      "92/92 - 0s - loss: 0.0029\n",
      "92/92 - 0s - loss: 0.0029\n",
      "92/92 - 0s - loss: 0.0029\n",
      "92/92 - 0s - loss: 0.0029\n",
      "92/92 - 0s - loss: 0.0028\n",
      "92/92 - 0s - loss: 0.0028\n",
      "92/92 - 0s - loss: 0.0028\n",
      "92/92 - 0s - loss: 0.0028\n",
      "92/92 - 0s - loss: 0.0028\n",
      "92/92 - 0s - loss: 0.0027\n",
      "92/92 - 0s - loss: 0.0027\n",
      "92/92 - 0s - loss: 0.0027\n",
      "92/92 - 0s - loss: 0.0027\n",
      "92/92 - 0s - loss: 0.0027\n",
      "92/92 - 0s - loss: 0.0026\n",
      "92/92 - 0s - loss: 0.0026\n",
      "92/92 - 0s - loss: 0.0026\n",
      "92/92 - 0s - loss: 0.0026\n",
      "92/92 - 0s - loss: 0.0026\n",
      "92/92 - 0s - loss: 0.0025\n",
      "92/92 - 0s - loss: 0.0025\n",
      "92/92 - 0s - loss: 0.0025\n",
      "92/92 - 0s - loss: 0.0025\n",
      "92/92 - 0s - loss: 0.0025\n",
      "92/92 - 0s - loss: 0.0025\n",
      "92/92 - 0s - loss: 0.0024\n",
      "92/92 - 0s - loss: 0.0024\n",
      "92/92 - 0s - loss: 0.0024\n",
      "92/92 - 0s - loss: 0.0024\n",
      "92/92 - 0s - loss: 0.0024\n",
      "92/92 - 0s - loss: 0.0024\n",
      "92/92 - 0s - loss: 0.0024\n",
      "92/92 - 0s - loss: 0.0023\n",
      "92/92 - 0s - loss: 0.0023\n",
      "92/92 - 0s - loss: 0.0023\n",
      "92/92 - 0s - loss: 0.0023\n",
      "92/92 - 0s - loss: 0.0023\n",
      "92/92 - 0s - loss: 0.0023\n",
      "92/92 - 0s - loss: 0.0022\n",
      "92/92 - 0s - loss: 0.0022\n",
      "92/92 - 0s - loss: 0.0022\n",
      "92/92 - 0s - loss: 0.0022\n",
      "92/92 - 0s - loss: 0.0022\n",
      "92/92 - 0s - loss: 0.0022\n",
      "92/92 - 0s - loss: 0.0022\n",
      "92/92 - 0s - loss: 0.0022\n",
      "92/92 - 0s - loss: 0.0021\n",
      "92/92 - 0s - loss: 0.0021\n"
     ]
    }
   ],
   "source": [
    "# create and fit the LSTM network\n",
    "batch_size = 1\n",
    "model = Sequential()\n",
    "model.add(LSTM(4, batch_input_shape=(batch_size, look_back, 1), stateful=True))\n",
    "model.add(Dense(1))\n",
    "model.compile(loss='mean_squared_error', optimizer='adam')\n",
    "for i in range(100):\n",
    "\tmodel.fit(trainX, trainY, epochs=1, batch_size=batch_size, verbose=2, shuffle=False)\n",
    "\tmodel.reset_states()\n"
   ]
  },
  {
   "cell_type": "code",
   "execution_count": 36,
   "metadata": {},
   "outputs": [],
   "source": [
    "# make predictions\n",
    "trainPredict = model.predict(trainX, batch_size=batch_size)\n",
    "model.reset_states()\n",
    "testPredict = model.predict(testX, batch_size=batch_size)\n"
   ]
  },
  {
   "cell_type": "code",
   "execution_count": 37,
   "metadata": {},
   "outputs": [],
   "source": [
    "# invert predictions\n",
    "trainPredict = scaler.inverse_transform(trainPredict)\n",
    "trainY = scaler.inverse_transform([trainY])\n",
    "testPredict = scaler.inverse_transform(testPredict)\n",
    "testY = scaler.inverse_transform([testY])\n"
   ]
  },
  {
   "cell_type": "code",
   "execution_count": 38,
   "metadata": {},
   "outputs": [
    {
     "name": "stdout",
     "output_type": "stream",
     "text": [
      "Train Score: 23.40 RMSE\n",
      "Test Score: 57.96 RMSE\n"
     ]
    }
   ],
   "source": [
    "# calculate root mean squared error\n",
    "trainScore = math.sqrt(mean_squared_error(trainY[0], trainPredict[:,0]))\n",
    "print('Train Score: %.2f RMSE' % (trainScore))\n",
    "testScore = math.sqrt(mean_squared_error(testY[0], testPredict[:,0]))\n",
    "print('Test Score: %.2f RMSE' % (testScore))\n"
   ]
  },
  {
   "cell_type": "code",
   "execution_count": 39,
   "metadata": {},
   "outputs": [
    {
     "data": {
      "image/png": "[encoded data removed]",
      "text/plain": [
       "<Figure size 432x288 with 1 Axes>"
      ]
     },
     "metadata": {
      "needs_background": "light"
     },
     "output_type": "display_data"
    }
   ],
   "source": [
    "# shift train predictions for plotting\n",
    "trainPredictPlot = np.empty_like(dataset)\n",
    "trainPredictPlot[:, :] = np.nan\n",
    "trainPredictPlot[look_back:len(trainPredict)+look_back, :] = trainPredict\n",
    "# shift test predictions for plotting\n",
    "testPredictPlot = np.empty_like(dataset)\n",
    "testPredictPlot[:, :] = np.nan\n",
    "testPredictPlot[len(trainPredict)+(look_back*2)+1:len(dataset)-1, :] = testPredict\n",
    "# plot baseline and predictions\n",
    "plt.plot(scaler.inverse_transform(dataset))\n",
    "plt.plot(trainPredictPlot)\n",
    "plt.plot(testPredictPlot)\n",
    "plt.show()"
   ]
  },
  {
   "cell_type": "code",
   "execution_count": null,
   "metadata": {},
   "outputs": [],
   "source": []
  },
  {
   "cell_type": "code",
   "execution_count": null,
   "metadata": {},
   "outputs": [],
   "source": []
  }
 ],
 "metadata": {
  "kernelspec": {
   "display_name": "Python 3",
   "language": "python",
   "name": "python3"
  },
  "language_info": {
   "codemirror_mode": {
    "name": "ipython",
    "version": 3
   },
   "file_extension": ".py",
   "mimetype": "text/x-python",
   "name": "python",
   "nbconvert_exporter": "python",
   "pygments_lexer": "ipython3",
   "version": "3.7.4"
  }
 },
 "nbformat": 4,
 "nbformat_minor": 2
}
